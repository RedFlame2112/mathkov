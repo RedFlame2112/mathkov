{
 "cells": [
  {
   "cell_type": "markdown",
   "metadata": {},
   "source": [
    "**Mathkov: A Math generation NLP software that uses Markov Chains**"
   ]
  },
  {
   "cell_type": "code",
   "execution_count": 26,
   "metadata": {},
   "outputs": [],
   "source": [
    "import re\n",
    "import random\n",
    "import spacy\n",
    "import markovify"
   ]
  },
  {
   "cell_type": "code",
   "execution_count": 27,
   "metadata": {},
   "outputs": [],
   "source": [
    "IN = \"math.txt\" #input file for mathematics generated\n",
    "CLEAN = f\"cleaned_{IN}\"\n",
    "FLAGS = re.DOTALL | re.MULTILINE | re.IGNORECASE\n",
    "OUT = \"mathkov.txt\" #output file"
   ]
  },
  {
   "cell_type": "code",
   "execution_count": 28,
   "metadata": {},
   "outputs": [],
   "source": [
    "# asy and LaTeX cleaning for input into NLP\n",
    "ASY = re.compile(r\"\\[asy\\].*?\\[/asy\\]\", FLAGS)\n",
    "LATEX_DOLLAR = re.compile(r\"\\$(.*?)\\$\", FLAGS)\n",
    "LATEX_PAREN = re.compile(r\"\\\\\\((.*?)\\\\\\)\", FLAGS)\n",
    "LATEX_BRACK = re.compile(r\"\\\\\\[(.*?)\\\\\\]\", FLAGS)\n",
    "LATEX_BRACE = re.compile(r\"\\{(.*?)\\}\", FLAGS)\n",
    "LATEX_BSLASH = re.compile(r\"\\\\\", FLAGS)\n",
    "OP = re.compile(r\"(\\+|\\-|=|/|\\*|\\^|_|<|>)\")\n",
    "\n",
    "# AoPS wiki formatting\n",
    "\n",
    "WIKI_PROBLEM_NUM = re.compile(r\"^Problem \\d+?$\", FLAGS)\n",
    "WIKI_SOLUTION = re.compile(r\"^Solution$\", FLAGS)\n",
    "IMAGE = re.compile(r\"^.*?\\.png$\")\n",
    "\n",
    "\n",
    "def aops_wiki_clean(text: str) -> str:\n",
    "    \"\"\"Clean text from AoPS Wiki.\"\"\"\n",
    "    text = ASY.sub(\"\", text)\n",
    "    text = LATEX_DOLLAR.sub(r\"\\1\", text)\n",
    "    text = LATEX_PAREN.sub(r\"\\1\", text)\n",
    "    text = LATEX_BRACK.sub(r\"\\1\", text)\n",
    "    text = LATEX_BRACE.sub(r\" \\1\", text)\n",
    "    text = LATEX_BSLASH.sub(\" \", text)\n",
    "    text = OP.sub(r\" \\1 \", text)\n",
    "    text = WIKI_PROBLEM_NUM.sub(\"\", text)\n",
    "    text = WIKI_SOLUTION.sub(\"\", text)\n",
    "    text = IMAGE.sub(\"\", text)\n",
    "    return \" \".join(text.split())"
   ]
  },
  {
   "cell_type": "code",
   "execution_count": 29,
   "metadata": {},
   "outputs": [],
   "source": [
    "with open(IN, \"r\") as reader:\n",
    "    cleaned = aops_wiki_clean(reader.read())\n",
    "\n",
    "with open(CLEAN, \"w\") as cleaned_file:\n",
    "    cleaned_file.write(cleaned)"
   ]
  },
  {
   "cell_type": "code",
   "execution_count": 31,
   "metadata": {},
   "outputs": [],
   "source": [
    "nlp = spacy.load('en_core_web_sm')\n",
    "doc = nlp(cleaned)\n",
    "\n",
    "sentences = \" \".join([sentence.text for sentence in doc.sents if len(sentence.text) > 1])"
   ]
  },
  {
   "cell_type": "code",
   "execution_count": 33,
   "metadata": {},
   "outputs": [],
   "source": [
    "gen = markovify.Text(sentences, state_size = 3)\n",
    "\n",
    "output = \"\"\n",
    "\n",
    "for prob in range(1, 16):\n",
    "  output += f\"Problmem {prob}\\n\"\n",
    "  for _ in range(random.randrange(2, 5)):\n",
    "    output += gen.make_sentence() + \" \"\n",
    "  output += \"\\n\\n\"\n",
    "\n",
    "output = output.strip() + \"\\n\"\n",
    "\n",
    "with open(OUT, \"w\") as output_file:\n",
    "  output_file.write(output)"
   ]
  }
 ],
 "metadata": {
  "kernelspec": {
   "display_name": "Python 3.9.13 64-bit",
   "language": "python",
   "name": "python3"
  },
  "language_info": {
   "codemirror_mode": {
    "name": "ipython",
    "version": 3
   },
   "file_extension": ".py",
   "mimetype": "text/x-python",
   "name": "python",
   "nbconvert_exporter": "python",
   "pygments_lexer": "ipython3",
   "version": "3.9.13"
  },
  "orig_nbformat": 4,
  "vscode": {
   "interpreter": {
    "hash": "b0fa6594d8f4cbf19f97940f81e996739fb7646882a419484c72d19e05852a7e"
   }
  }
 },
 "nbformat": 4,
 "nbformat_minor": 2
}
